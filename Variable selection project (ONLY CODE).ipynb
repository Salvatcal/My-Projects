{
  "cells": [
    {
      "cell_type": "code",
      "execution_count": 2,
      "metadata": {
        "id": "iIbIsiw9d_UX"
      },
      "outputs": [],
      "source": [
        "import pandas as pd\n",
        "import matplotlib.pyplot as plt\n",
        "import numpy as np\n",
        "from scipy import stats\n",
        "\n",
        "df= pd.read_csv(\"data_modified.csv\")\n",
        "Y = df.iloc[:, 1] \n",
        "X = df.drop(df.columns[[0,1]], axis=1)"
      ]
    },
    {
      "cell_type": "code",
      "execution_count": 3,
      "metadata": {},
      "outputs": [
        {
          "name": "stdout",
          "output_type": "stream",
          "text": [
            "<class 'pandas.core.frame.DataFrame'>\n",
            "RangeIndex: 569 entries, 0 to 568\n",
            "Data columns (total 30 columns):\n",
            " #   Column                   Non-Null Count  Dtype  \n",
            "---  ------                   --------------  -----  \n",
            " 0   radius_mean              569 non-null    float64\n",
            " 1   texture_mean             569 non-null    float64\n",
            " 2   perimeter_mean           569 non-null    float64\n",
            " 3   area_mean                569 non-null    float64\n",
            " 4   smoothness_mean          569 non-null    float64\n",
            " 5   compactness_mean         569 non-null    float64\n",
            " 6   concavity_mean           569 non-null    float64\n",
            " 7   concave points_mean      569 non-null    float64\n",
            " 8   symmetry_mean            569 non-null    float64\n",
            " 9   fractal_dimension_mean   569 non-null    float64\n",
            " 10  radius_se                569 non-null    float64\n",
            " 11  texture_se               569 non-null    float64\n",
            " 12  perimeter_se             569 non-null    float64\n",
            " 13  area_se                  569 non-null    float64\n",
            " 14  smoothness_se            569 non-null    float64\n",
            " 15  compactness_se           569 non-null    float64\n",
            " 16  concavity_se             569 non-null    float64\n",
            " 17  concave points_se        569 non-null    float64\n",
            " 18  symmetry_se              569 non-null    float64\n",
            " 19  fractal_dimension_se     569 non-null    float64\n",
            " 20  radius_worst             569 non-null    float64\n",
            " 21  texture_worst            569 non-null    float64\n",
            " 22  perimeter_worst          569 non-null    float64\n",
            " 23  area_worst               569 non-null    float64\n",
            " 24  smoothness_worst         569 non-null    float64\n",
            " 25  compactness_worst        569 non-null    float64\n",
            " 26  concavity_worst          569 non-null    float64\n",
            " 27  concave points_worst     569 non-null    float64\n",
            " 28  symmetry_worst           569 non-null    float64\n",
            " 29  fractal_dimension_worst  569 non-null    float64\n",
            "dtypes: float64(30)\n",
            "memory usage: 133.5 KB\n"
          ]
        }
      ],
      "source": [
        "X.info()"
      ]
    },
    {
      "cell_type": "code",
      "execution_count": 5,
      "metadata": {},
      "outputs": [
        {
          "data": {
            "text/plain": [
              "0      1\n",
              "1      1\n",
              "2      1\n",
              "3      1\n",
              "4      1\n",
              "      ..\n",
              "564    1\n",
              "565    1\n",
              "566    1\n",
              "567    1\n",
              "568    0\n",
              "Name: diagnosis, Length: 569, dtype: int64"
            ]
          },
          "execution_count": 5,
          "metadata": {},
          "output_type": "execute_result"
        }
      ],
      "source": [
        "Y"
      ]
    },
    {
      "cell_type": "code",
      "execution_count": null,
      "metadata": {},
      "outputs": [],
      "source": [
        "def calculate_metrics(predictions, Y):\n",
        "    TP = ((predictions == 1) & (Y == 1)).sum()\n",
        "    FP = ((predictions == 1) & (Y == 0)).sum()\n",
        "    TN = ((predictions == 0) & (Y == 0)).sum()\n",
        "    FN = ((predictions == 0) & (Y == 1)).sum()\n",
        "\n",
        "    accuracy = (TP + TN) / (TP + TN + FP + FN)\n",
        "    precision = TP / (TP + FP) if TP + FP != 0 else 0\n",
        "    recall = TP / (TP + FN) if TP + FN != 0 else 0\n",
        "    f1 = 2 * (precision * recall) / (precision + recall) if precision + recall != 0 else 0\n",
        "\n",
        "    return accuracy, precision, recall, f1"
      ]
    },
    {
      "cell_type": "markdown",
      "metadata": {},
      "source": [
        "  # Forward Selection"
      ]
    },
    {
      "cell_type": "code",
      "execution_count": 102,
      "metadata": {
        "colab": {
          "base_uri": "https://localhost:8080/"
        },
        "id": "I_0r1bNyhVNm",
        "outputId": "9e9e6c7a-20c9-43ce-bf8a-ecabca4425f5"
      },
      "outputs": [
        {
          "name": "stdout",
          "output_type": "stream",
          "text": [
            "Beta coefficients: [-1.66384367  0.06730898  0.0218041   5.67940239 -0.01612008  1.3440788 ]\n",
            "Selected Variables: ['radius_mean', 'texture_mean', 'smoothness_mean', 'compactness_mean', 'concavity_mean']\n",
            "Accuracy: 0.9226713532513181\n",
            "Precision: 0.9827586206896551\n",
            "Recall: 0.8066037735849056\n",
            "F1-Score: 0.8860103626943006\n"
          ]
        }
      ],
      "source": [
        "def RM1(X, Y):\n",
        "    variables = X.columns.tolist()\n",
        "    selected_variables = []\n",
        "    p_values = np.ones(len(variables))\n",
        "\n",
        "    for _ in range(5): \n",
        "        best_pval = 1 \n",
        "        best_variable = None\n",
        "\n",
        "        for i, candidate_variable in enumerate(variables):\n",
        "            if candidate_variable in selected_variables:\n",
        "                continue\n",
        "\n",
        "            X_selected = X[selected_variables + [candidate_variable]]\n",
        "            X_selected = np.column_stack((np.ones(len(X_selected)), X_selected))\n",
        "\n",
        "            beta = np.linalg.inv(X_selected.T @ X_selected) @ X_selected.T @ Y\n",
        "\n",
        "            error = Y - X_selected @ beta\n",
        "\n",
        "            residual_variance = np.sum(error**2) / (len(Y) - len(beta))\n",
        "\n",
        "            beta_variance = np.linalg.inv(X_selected.T @ X_selected) * residual_variance\n",
        "\n",
        "            t_stat = beta[1] / np.sqrt(beta_variance[1, 1])\n",
        "            p_value = 2 * (1 - stats.t.cdf(np.abs(t_stat), len(Y) - len(beta)))\n",
        "\n",
        "            if p_value < best_pval:\n",
        "                best_pval = p_value\n",
        "                best_variable = candidate_variable\n",
        "\n",
        "        selected_variables.append(best_variable)\n",
        "        p_values[i] = best_pval\n",
        "\n",
        "    X_final = X[selected_variables]\n",
        "    X_final = np.column_stack((np.ones(len(X_final)), X_final))\n",
        "    beta_final = np.linalg.inv(X_final.T @ X_final) @ X_final.T @ Y\n",
        "    predictions = X_final @ beta_final\n",
        "    predictions = (predictions >= 0.5).astype(int)\n",
        "\n",
        "    accuracy, precision, recall, f1 = calculate_metrics(predictions, Y)\n",
        "\n",
        "    return beta_final, selected_variables, accuracy, precision, recall, f1\n",
        "\n",
        "\n",
        "\n",
        "result_RM1 = RM1(X, Y)\n",
        "print(\"Beta coefficients:\", result_RM1[0])\n",
        "print(\"Selected Variables:\", result_RM1[1])\n",
        "print(\"Accuracy:\", result_RM1[2])\n",
        "print(\"Precision:\", result_RM1[3])\n",
        "print(\"Recall:\", result_RM1[4])\n",
        "print(\"F1-Score:\", result_RM1[5])\n"
      ]
    },
    {
      "cell_type": "markdown",
      "metadata": {},
      "source": [
        "# Backward Elimination"
      ]
    },
    {
      "cell_type": "code",
      "execution_count": 95,
      "metadata": {
        "colab": {
          "base_uri": "https://localhost:8080/"
        },
        "id": "Rlz9Gk0chVNn",
        "outputId": "a6d8c059-3065-45bb-f23d-1af102b9a481"
      },
      "outputs": [
        {
          "name": "stdout",
          "output_type": "stream",
          "text": [
            "Beta coefficients: [-1.94125565e+00  3.97765094e-01  2.23771827e-02 -4.17450476e-02\n",
            " -9.38140495e-04  1.43733490e+00  7.85638119e+00  1.06892162e+00]\n",
            "Selected Variables: ['radius_mean', 'texture_mean', 'perimeter_mean', 'area_mean', 'smoothness_mean', 'concave points_mean', 'symmetry_mean']\n",
            "Accuracy: 0.9402460456942003\n",
            "Precision: 0.973404255319149\n",
            "Recall: 0.8632075471698113\n",
            "F1-Score: 0.915\n"
          ]
        }
      ],
      "source": [
        "\n",
        "def RM2(X, Y):\n",
        "    variables = X.columns.tolist()\n",
        "    p_values = np.ones(len(variables)) \n",
        "\n",
        "    X_full = X.copy()\n",
        "    X_full = np.column_stack((np.ones(len(X_full)), X_full))\n",
        "    beta = np.linalg.inv(X_full.T @ X_full) @ X_full.T @ Y\n",
        "\n",
        "    while True:  \n",
        "        worst_pval = 0 \n",
        "        worst_variable = None\n",
        "        p_values_updated = np.zeros(len(variables)) + 1  \n",
        "\n",
        "        for i, variable in enumerate(variables):\n",
        "            X_temp = X_full.copy()\n",
        "            X_temp = np.delete(X_temp, i+1, axis=1)  \n",
        "\n",
        "            beta_temp = np.linalg.inv(X_temp.T @ X_temp) @ X_temp.T @ Y\n",
        "\n",
        "            error = Y - X_temp @ beta_temp\n",
        "\n",
        "            residual_variance = np.sum(error**2) / (len(Y) - len(beta_temp))\n",
        "\n",
        "            beta_variance = np.linalg.inv(X_temp.T @ X_temp) * residual_variance\n",
        "\n",
        "            t_stat = beta_temp[i] / np.sqrt(beta_variance[i, i])\n",
        "            p_value = 2 * (1 - stats.t.cdf(np.abs(t_stat), len(Y) - len(beta_temp)))\n",
        "\n",
        "            p_values_updated[i] = p_value\n",
        "\n",
        "            if p_value > 0.05 and p_value > worst_pval:\n",
        "                worst_pval = p_value\n",
        "                worst_variable = variable\n",
        "\n",
        "        if worst_variable is None: \n",
        "            break\n",
        "\n",
        "        if np.all(p_values_updated <= 0.05):  \n",
        "            break\n",
        "\n",
        "        X_full = np.delete(X_full, variables.index(worst_variable) + 1, axis=1)\n",
        "        p_values = np.delete(p_values, variables.index(worst_variable))\n",
        "        variables.remove(worst_variable)\n",
        "\n",
        "    beta_final = np.linalg.inv(X_full.T @ X_full) @ X_full.T @ Y\n",
        "    predictions = X_full @ beta_final\n",
        "    predictions = (predictions >= 0.5).astype(int)\n",
        "\n",
        "    accuracy, precision, recall, f1 = calculate_metrics(predictions, Y)\n",
        "\n",
        "    return beta_final, variables, accuracy, precision, recall, f1\n",
        "\n",
        "\n",
        "\n",
        "result_RM2 = RM2(X, Y)\n",
        "\n",
        "print(\"Beta coefficients:\", result_RM2[0])\n",
        "print(\"Selected Variables:\", result_RM2[1])\n",
        "print(\"Accuracy:\", result_RM2[2])\n",
        "print(\"Precision:\", result_RM2[3])\n",
        "print(\"Recall:\", result_RM2[4])\n",
        "print(\"F1-Score:\", result_RM2[5])\n"
      ]
    },
    {
      "cell_type": "code",
      "execution_count": 4,
      "metadata": {
        "colab": {
          "base_uri": "https://localhost:8080/"
        },
        "id": "uRVcW47jhVNn",
        "outputId": "060862a9-3d8a-4206-90f5-d84b74fea8fa"
      },
      "outputs": [
        {
          "name": "stdout",
          "output_type": "stream",
          "text": [
            "Beta coefficients: [  0.8464616   10.91991043   1.98812073 -38.13542014   0.96717527\n",
            "   1.90303784]\n",
            "Selected Variables: ['smoothness_mean', 'symmetry_mean', 'fractal_dimension_mean', 'compactness_se', 'compactness_worst']\n",
            "Errors: ['0.05569145799314622475', '0.05569325503317724274', '0.05569127923740923441', '0.05569475869494606990', '0.05569136819526819548', '0.05569445695099326660']\n",
            "Accuracy: 0.8840070298769771\n",
            "Precision: 0.8882978723404256\n",
            "Recall: 0.7877358490566038\n",
            "F1-Score: 0.835\n"
          ]
        }
      ],
      "source": [
        "def RM3(X, Y):\n",
        "    variables = X.columns.tolist()\n",
        "    errors = np.zeros(len(variables))  \n",
        "\n",
        "    X_model = np.column_stack((np.ones(len(X)), X))\n",
        "    beta = np.linalg.inv(X_model.T @ X_model) @ X_model.T @ Y\n",
        "\n",
        "    predictions = X_model @ beta\n",
        "    predictions = (predictions >= 0.5).astype(int)\n",
        "    accuracy, precision, recall, f1 = calculate_metrics(predictions, Y)\n",
        "\n",
        "    while len(variables) > 5: \n",
        "        errors = []\n",
        "        for i, variable in enumerate(variables):\n",
        "            X_temp = X.drop(columns=[variable])\n",
        "            X_temp_model = np.column_stack((np.ones(len(X_temp)), X_temp))\n",
        "            beta_temp = np.linalg.inv(X_temp_model.T @ X_temp_model) @ X_temp_model.T @ Y\n",
        "\n",
        "            error = Y - X_temp_model @ beta_temp\n",
        "            residual_variance = np.sum(error**2) / (len(Y) - len(beta_temp))\n",
        "\n",
        "            error = residual_variance\n",
        "            errors.append(error)\n",
        "\n",
        "        max_error_index = np.argmax(errors)\n",
        "        removed_variable = variables.pop(max_error_index)\n",
        "\n",
        "        X_model = np.column_stack((np.ones(len(X)), X.loc[:, variables]))\n",
        "        beta = np.linalg.inv(X_model.T @ X_model) @ X_model.T @ Y\n",
        "\n",
        "        predictions = X_model @ beta\n",
        "        predictions = (predictions >= 0.5).astype(int)\n",
        "        accuracy, precision, recall, f1 = calculate_metrics(predictions, Y)\n",
        "\n",
        "    X_final = np.column_stack((np.ones(len(X)), X.loc[:, variables]))\n",
        "    beta_final = np.linalg.inv(X_final.T @ X_final) @ X_final.T @ Y\n",
        "    predictions_final = X_final @ beta_final\n",
        "    predictions_final = (predictions_final >= 0.5).astype(int)\n",
        "\n",
        "    accuracy_final, precision_final, recall_final, f1_final = calculate_metrics(predictions_final, Y)\n",
        "\n",
        "    errors_formatted = [\"{:.20f}\".format(e) for e in errors]\n",
        "\n",
        "    return beta_final, variables, errors_formatted, accuracy_final, precision_final, recall_final, f1_final\n",
        "\n",
        "\n",
        "result_RM3 = RM3(X, Y)\n",
        "\n",
        "print(\"Beta coefficients:\", result_RM3[0])\n",
        "print(\"Selected Variables:\", result_RM3[1])\n",
        "print(\"Errors:\", result_RM3[2])\n",
        "print(\"Accuracy:\", result_RM3[3])\n",
        "print(\"Precision:\", result_RM3[4])\n",
        "print(\"Recall:\", result_RM3[5])\n",
        "print(\"F1-Score:\", result_RM3[6])\n"
      ]
    },
    {
      "cell_type": "code",
      "execution_count": 5,
      "metadata": {
        "colab": {
          "base_uri": "https://localhost:8080/"
        },
        "id": "grY3AsOdp4r0",
        "outputId": "2326a71f-dce0-4c24-975c-bdd74ef51700"
      },
      "outputs": [
        {
          "name": "stdout",
          "output_type": "stream",
          "text": [
            "Beta coefficients: [ 8.08909090e-01  2.32359589e-01 -3.90852667e-03 -7.15154065e+00\n",
            " -1.74392461e+01  3.57179804e+01]\n",
            "Selected Variables: ['symmetry_se', 'texture_se', 'fractal_dimension_mean', 'smoothness_se', 'fractal_dimension_se']\n",
            "Errors: ['0.09794496480453095122', '0.18567533200294955575', '0.09726823590372976613', '0.10809661032147580007', '0.18320649473824718312', '0.10854021797970433982', '0.10459733523212616513', '0.08832782175581098405', '0.19622142771977690856', '0.14989124026715500149', '0.15343055373104669270', '0.15961325786696312079', '0.20061536120613551737', '0.21381656618907221579', '0.18313706637885834860', '0.23059722870082310919', '0.08434512152275065733', '0.17021634390816522964', '0.08512548817296522463', '0.10260849039368725999', '0.16292189762730399649', '0.12347694565004965761', '0.11463970235402133613', '0.07775361650766808574', '0.17366469706889411939', '0.16263911254475738044']\n",
            "Accuracy: 0.616871704745167\n",
            "Precision: 0.35\n",
            "Recall: 0.0330188679245283\n",
            "F1-Score: 0.0603448275862069\n"
          ]
        }
      ],
      "source": [
        "def RM4(X, Y):\n",
        "    variables = X.columns.tolist()\n",
        "    selected_variables = []  \n",
        "    errors = np.zeros(len(variables))  \n",
        "    alpha = 1e-5  \n",
        "\n",
        "\n",
        "    while len(selected_variables) < 5:  \n",
        "        errors = []\n",
        "        for i, variable in enumerate(variables):\n",
        "            selected_variables_temp = selected_variables + [variable]\n",
        "            X_temp = X.loc[:, selected_variables_temp]\n",
        "            X_temp_model = np.column_stack((np.ones(len(X_temp)), X_temp))\n",
        "            beta_temp = np.linalg.pinv(X_temp_model.T @ X_temp_model + alpha * np.eye(X_temp_model.shape[1])) @ X_temp_model.T @ Y\n",
        "\n",
        "\n",
        "            error = Y - X_temp_model @ beta_temp\n",
        "\n",
        "\n",
        "            residual_variance = np.sum(error**2) / (len(Y) - len(beta_temp))\n",
        "\n",
        "            error = residual_variance\n",
        "            errors.append(error)\n",
        "\n",
        "        max_error_index = np.argmax(errors)\n",
        "        added_variable = variables.pop(max_error_index)  \n",
        "        selected_variables.append(added_variable)\n",
        "\n",
        "        X_model = np.column_stack((np.ones(len(X)), X.loc[:, selected_variables]))\n",
        "        beta = np.linalg.pinv(X_model.T @ X_model + alpha * np.eye(X_model.shape[1])) @ X_model.T @ Y\n",
        "\n",
        "        predictions = X_model @ beta\n",
        "        predictions = (predictions >= 0.5).astype(int)\n",
        "        accuracy, precision, recall, f1 = calculate_metrics(predictions, Y)\n",
        "\n",
        "    X_final = np.column_stack((np.ones(len(X)), X.loc[:, selected_variables]))\n",
        "    beta_final = np.linalg.pinv(X_final.T @ X_final + alpha * np.eye(X_final.shape[1])) @ X_final.T @ Y\n",
        "    predictions_final = X_final @ beta_final\n",
        "    predictions_final = (predictions_final >= 0.5).astype(int)\n",
        "\n",
        "    accuracy_final, precision_final, recall_final, f1_final = calculate_metrics(predictions_final, Y)\n",
        "\n",
        "    errors_formatted = [\"{:.20f}\".format(e) for e in errors]\n",
        "\n",
        "    return beta_final, selected_variables, errors_formatted, accuracy_final, precision_final, recall_final, f1_final\n",
        "\n",
        "# Example of usage\n",
        "result_RM4 = RM4(X, Y)\n",
        "\n",
        "# Print the results\n",
        "print(\"Beta coefficients:\", result_RM4[0])\n",
        "print(\"Selected Variables:\", result_RM4[1])\n",
        "print(\"Errors:\", result_RM4[2])\n",
        "print(\"Accuracy:\", result_RM4[3])\n",
        "print(\"Precision:\", result_RM4[4])\n",
        "print(\"Recall:\", result_RM4[5])\n",
        "print(\"F1-Score:\", result_RM4[6])\n"
      ]
    },
    {
      "cell_type": "code",
      "execution_count": 6,
      "metadata": {
        "colab": {
          "base_uri": "https://localhost:8080/"
        },
        "id": "NDsHcK3JqH5J",
        "outputId": "4f5e6303-b1a8-45cd-a2de-b0904223816d"
      },
      "outputs": [
        {
          "name": "stdout",
          "output_type": "stream",
          "text": [
            "Beta coefficients: [-0.53579971  2.96988832 -0.00666432  2.2848403   0.10656923 -0.00611867]\n",
            "Selected Variables: ['concave points_worst', 'perimeter_worst', 'concave points_mean', 'radius_worst', 'perimeter_mean']\n",
            "Accuracy: 0.945518453427065\n",
            "Precision: 0.994535519125683\n",
            "Recall: 0.8584905660377359\n",
            "F1-Score: 0.9215189873417722\n"
          ]
        }
      ],
      "source": [
        "def RM5(X, Y):\n",
        "    correlations = np.abs(X.corrwith(Y))\n",
        "\n",
        "    ranked_variables = correlations.sort_values(ascending=False)\n",
        "\n",
        "    selected_variables = ranked_variables.index[:5].tolist()\n",
        "    X_final = X.loc[:, selected_variables]\n",
        "    X_final_model = np.column_stack((np.ones(len(X_final)), X_final))\n",
        "    beta_final = np.linalg.pinv(X_final_model.T @ X_final_model) @ X_final_model.T @ Y\n",
        "    predictions_final = X_final_model @ beta_final\n",
        "    predictions_final = (predictions_final >= 0.5).astype(int)\n",
        "\n",
        "    accuracy_final, precision_final, recall_final, f1_final = calculate_metrics(predictions_final, Y)\n",
        "\n",
        "    return beta_final, selected_variables, accuracy_final, precision_final, recall_final, f1_final\n",
        "\n",
        "result_RM5 = RM5(X, Y)\n",
        "\n",
        "print(\"Beta coefficients:\", result_RM5[0])\n",
        "print(\"Selected Variables:\", result_RM5[1])\n",
        "print(\"Accuracy:\", result_RM5[2])\n",
        "print(\"Precision:\", result_RM5[3])\n",
        "print(\"Recall:\", result_RM5[4])\n",
        "print(\"F1-Score:\", result_RM5[5])\n"
      ]
    },
    {
      "cell_type": "code",
      "execution_count": 105,
      "metadata": {},
      "outputs": [
        {
          "name": "stdout",
          "output_type": "stream",
          "text": [
            "                RM1                  RM2                     RM3  \\\n",
            "0       radius_mean          radius_mean         smoothness_mean   \n",
            "1      texture_mean         texture_mean           symmetry_mean   \n",
            "2   smoothness_mean       perimeter_mean  fractal_dimension_mean   \n",
            "3  compactness_mean            area_mean          compactness_se   \n",
            "4    concavity_mean      smoothness_mean       compactness_worst   \n",
            "5               NaN  concave points_mean                     NaN   \n",
            "6               NaN        symmetry_mean                     NaN   \n",
            "\n",
            "                      RM4                   RM5  \n",
            "0             symmetry_se  concave points_worst  \n",
            "1              texture_se       perimeter_worst  \n",
            "2  fractal_dimension_mean   concave points_mean  \n",
            "3           smoothness_se          radius_worst  \n",
            "4    fractal_dimension_se        perimeter_mean  \n",
            "5                     NaN                   NaN  \n",
            "6                     NaN                   NaN  \n"
          ]
        }
      ],
      "source": [
        "data = {\n",
        "    'RM1': result_RM1[1],\n",
        "    'RM2': result_RM2[1],\n",
        "    'RM3': result_RM3[1],\n",
        "    'RM4': result_RM4[1],\n",
        "    'RM5': result_RM5[1]\n",
        "}\n",
        "\n",
        "df = pd.DataFrame(dict([(k,pd.Series(v)) for k,v in data.items()]))\n",
        "\n",
        "print(df)\n"
      ]
    },
    {
      "cell_type": "code",
      "execution_count": 106,
      "metadata": {},
      "outputs": [
        {
          "name": "stdout",
          "output_type": "stream",
          "text": [
            "                RM1       RM2       RM3       RM4       RM5\n",
            "Accuracy   0.922671  0.940246  0.884007  0.616872  0.945518\n",
            "Precision  0.982759  0.973404  0.888298  0.350000  0.994536\n",
            "Recall     0.806604  0.863208  0.787736  0.033019  0.858491\n",
            "F1-Score   0.886010  0.915000  0.835000  0.060345  0.921519\n"
          ]
        }
      ],
      "source": [
        "\n",
        "data = {\n",
        "    'RM1': result_RM1[-4:],\n",
        "    'RM2': result_RM2[-4:],\n",
        "    'RM3': result_RM3[-4:],\n",
        "    'RM4': result_RM4[-4:],\n",
        "    'RM5': result_RM5[-4:]\n",
        "}\n",
        "df = pd.DataFrame(data, index=['Accuracy', 'Precision', 'Recall', 'F1-Score'])\n",
        "\n",
        "print(df)\n"
      ]
    },
    {
      "cell_type": "code",
      "execution_count": null,
      "metadata": {},
      "outputs": [],
      "source": []
    }
  ],
  "metadata": {
    "colab": {
      "provenance": []
    },
    "kernelspec": {
      "display_name": "Python 3",
      "name": "python3"
    },
    "language_info": {
      "codemirror_mode": {
        "name": "ipython",
        "version": 3
      },
      "file_extension": ".py",
      "mimetype": "text/x-python",
      "name": "python",
      "nbconvert_exporter": "python",
      "pygments_lexer": "ipython3",
      "version": "3.10.7"
    }
  },
  "nbformat": 4,
  "nbformat_minor": 0
}
